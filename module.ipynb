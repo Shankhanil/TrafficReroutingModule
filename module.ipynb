{
  "nbformat": 4,
  "nbformat_minor": 0,
  "metadata": {
    "colab": {
      "name": "module.ipynb",
      "provenance": [],
      "collapsed_sections": [],
      "authorship_tag": "ABX9TyPEE56jNLhV1JPrL0Bvwq+V",
      "include_colab_link": true
    },
    "kernelspec": {
      "name": "python3",
      "display_name": "Python 3"
    }
  },
  "cells": [
    {
      "cell_type": "markdown",
      "metadata": {
        "id": "view-in-github",
        "colab_type": "text"
      },
      "source": [
        "<a href=\"https://colab.research.google.com/github/chhandasaha/TrafficReroutingModule2/blob/master/module.ipynb\" target=\"_parent\"><img src=\"https://colab.research.google.com/assets/colab-badge.svg\" alt=\"Open In Colab\"/></a>"
      ]
    },
    {
      "cell_type": "code",
      "metadata": {
        "id": "UxqtH05Mcidu",
        "colab_type": "code",
        "outputId": "9bd597ba-204d-421c-b33c-27a5c5d50798",
        "colab": {
          "base_uri": "https://localhost:8080/",
          "height": 34
        }
      },
      "source": [
        "#generate vid\n",
        "import random as r\n",
        "import numpy as np\n",
        "import pandas as pd\n",
        "type(r.randrange(100))"
      ],
      "execution_count": 7,
      "outputs": [
        {
          "output_type": "execute_result",
          "data": {
            "text/plain": [
              "int"
            ]
          },
          "metadata": {
            "tags": []
          },
          "execution_count": 7
        }
      ]
    },
    {
      "cell_type": "code",
      "metadata": {
        "id": "Nwb91q1yeGDm",
        "colab_type": "code",
        "outputId": "8ae0bd32-58e1-45b9-9920-f6ee7513509b",
        "colab": {
          "base_uri": "https://localhost:8080/",
          "height": 34
        }
      },
      "source": [
        "speed = []\n",
        "waitTime = []\n",
        "roadId = []\n",
        "vid = list(range(0,2000))\n",
        "for i in range(0,2000):\n",
        " rspeed= r.uniform(0,25)\n",
        " rwt= r.uniform(0,150)\n",
        " rid= r.randint(0,10)\n",
        " speed.append(rspeed)\n",
        " waitTime.append(rwt)\n",
        " roadId.append(rid)\n",
        "\n",
        "speed[0],waitTime[0],roadId[0]\n",
        "# vid[0:10]\n",
        "\n",
        " "
      ],
      "execution_count": 28,
      "outputs": [
        {
          "output_type": "execute_result",
          "data": {
            "text/plain": [
              "(13.65720855985135, 51.13235585283541, 4)"
            ]
          },
          "metadata": {
            "tags": []
          },
          "execution_count": 28
        }
      ]
    },
    {
      "cell_type": "code",
      "metadata": {
        "id": "jrRp3Uwum1vL",
        "colab_type": "code",
        "outputId": "fce9dbe2-9b30-44b9-e484-db5fc2694aa2",
        "colab": {
          "base_uri": "https://localhost:8080/",
          "height": 979
        }
      },
      "source": [
        "data = {'speed':speed,'waitTime':waitTime, 'roadId' :roadId}\n",
        "vehicle_data = pd.DataFrame(data, index = vid)\n",
        "vehicle_data.head(30)"
      ],
      "execution_count": 29,
      "outputs": [
        {
          "output_type": "execute_result",
          "data": {
            "text/html": [
              "<div>\n",
              "<style scoped>\n",
              "    .dataframe tbody tr th:only-of-type {\n",
              "        vertical-align: middle;\n",
              "    }\n",
              "\n",
              "    .dataframe tbody tr th {\n",
              "        vertical-align: top;\n",
              "    }\n",
              "\n",
              "    .dataframe thead th {\n",
              "        text-align: right;\n",
              "    }\n",
              "</style>\n",
              "<table border=\"1\" class=\"dataframe\">\n",
              "  <thead>\n",
              "    <tr style=\"text-align: right;\">\n",
              "      <th></th>\n",
              "      <th>speed</th>\n",
              "      <th>waitTime</th>\n",
              "      <th>roadId</th>\n",
              "    </tr>\n",
              "  </thead>\n",
              "  <tbody>\n",
              "    <tr>\n",
              "      <th>0</th>\n",
              "      <td>13.657209</td>\n",
              "      <td>51.132356</td>\n",
              "      <td>4</td>\n",
              "    </tr>\n",
              "    <tr>\n",
              "      <th>1</th>\n",
              "      <td>24.235851</td>\n",
              "      <td>29.326921</td>\n",
              "      <td>1</td>\n",
              "    </tr>\n",
              "    <tr>\n",
              "      <th>2</th>\n",
              "      <td>11.071521</td>\n",
              "      <td>107.369012</td>\n",
              "      <td>9</td>\n",
              "    </tr>\n",
              "    <tr>\n",
              "      <th>3</th>\n",
              "      <td>17.269517</td>\n",
              "      <td>51.880050</td>\n",
              "      <td>0</td>\n",
              "    </tr>\n",
              "    <tr>\n",
              "      <th>4</th>\n",
              "      <td>8.103329</td>\n",
              "      <td>24.632221</td>\n",
              "      <td>7</td>\n",
              "    </tr>\n",
              "    <tr>\n",
              "      <th>5</th>\n",
              "      <td>17.759335</td>\n",
              "      <td>119.662499</td>\n",
              "      <td>0</td>\n",
              "    </tr>\n",
              "    <tr>\n",
              "      <th>6</th>\n",
              "      <td>4.769258</td>\n",
              "      <td>52.885470</td>\n",
              "      <td>1</td>\n",
              "    </tr>\n",
              "    <tr>\n",
              "      <th>7</th>\n",
              "      <td>13.344992</td>\n",
              "      <td>138.624840</td>\n",
              "      <td>4</td>\n",
              "    </tr>\n",
              "    <tr>\n",
              "      <th>8</th>\n",
              "      <td>14.059374</td>\n",
              "      <td>83.906340</td>\n",
              "      <td>2</td>\n",
              "    </tr>\n",
              "    <tr>\n",
              "      <th>9</th>\n",
              "      <td>5.288030</td>\n",
              "      <td>86.387146</td>\n",
              "      <td>7</td>\n",
              "    </tr>\n",
              "    <tr>\n",
              "      <th>10</th>\n",
              "      <td>17.496345</td>\n",
              "      <td>117.562625</td>\n",
              "      <td>7</td>\n",
              "    </tr>\n",
              "    <tr>\n",
              "      <th>11</th>\n",
              "      <td>6.380214</td>\n",
              "      <td>120.962631</td>\n",
              "      <td>4</td>\n",
              "    </tr>\n",
              "    <tr>\n",
              "      <th>12</th>\n",
              "      <td>24.694887</td>\n",
              "      <td>65.827192</td>\n",
              "      <td>6</td>\n",
              "    </tr>\n",
              "    <tr>\n",
              "      <th>13</th>\n",
              "      <td>18.769056</td>\n",
              "      <td>60.955565</td>\n",
              "      <td>5</td>\n",
              "    </tr>\n",
              "    <tr>\n",
              "      <th>14</th>\n",
              "      <td>15.650155</td>\n",
              "      <td>149.732113</td>\n",
              "      <td>6</td>\n",
              "    </tr>\n",
              "    <tr>\n",
              "      <th>15</th>\n",
              "      <td>6.821720</td>\n",
              "      <td>83.667186</td>\n",
              "      <td>7</td>\n",
              "    </tr>\n",
              "    <tr>\n",
              "      <th>16</th>\n",
              "      <td>17.285417</td>\n",
              "      <td>79.204988</td>\n",
              "      <td>10</td>\n",
              "    </tr>\n",
              "    <tr>\n",
              "      <th>17</th>\n",
              "      <td>19.485888</td>\n",
              "      <td>32.576052</td>\n",
              "      <td>3</td>\n",
              "    </tr>\n",
              "    <tr>\n",
              "      <th>18</th>\n",
              "      <td>1.422675</td>\n",
              "      <td>113.693677</td>\n",
              "      <td>1</td>\n",
              "    </tr>\n",
              "    <tr>\n",
              "      <th>19</th>\n",
              "      <td>15.925469</td>\n",
              "      <td>17.311375</td>\n",
              "      <td>6</td>\n",
              "    </tr>\n",
              "    <tr>\n",
              "      <th>20</th>\n",
              "      <td>16.352568</td>\n",
              "      <td>5.110231</td>\n",
              "      <td>6</td>\n",
              "    </tr>\n",
              "    <tr>\n",
              "      <th>21</th>\n",
              "      <td>18.316280</td>\n",
              "      <td>43.463915</td>\n",
              "      <td>0</td>\n",
              "    </tr>\n",
              "    <tr>\n",
              "      <th>22</th>\n",
              "      <td>17.695633</td>\n",
              "      <td>131.110097</td>\n",
              "      <td>7</td>\n",
              "    </tr>\n",
              "    <tr>\n",
              "      <th>23</th>\n",
              "      <td>14.295802</td>\n",
              "      <td>142.961611</td>\n",
              "      <td>8</td>\n",
              "    </tr>\n",
              "    <tr>\n",
              "      <th>24</th>\n",
              "      <td>1.806098</td>\n",
              "      <td>33.820494</td>\n",
              "      <td>4</td>\n",
              "    </tr>\n",
              "    <tr>\n",
              "      <th>25</th>\n",
              "      <td>11.513379</td>\n",
              "      <td>10.756759</td>\n",
              "      <td>1</td>\n",
              "    </tr>\n",
              "    <tr>\n",
              "      <th>26</th>\n",
              "      <td>12.052988</td>\n",
              "      <td>40.543600</td>\n",
              "      <td>5</td>\n",
              "    </tr>\n",
              "    <tr>\n",
              "      <th>27</th>\n",
              "      <td>12.819511</td>\n",
              "      <td>20.304362</td>\n",
              "      <td>3</td>\n",
              "    </tr>\n",
              "    <tr>\n",
              "      <th>28</th>\n",
              "      <td>18.305889</td>\n",
              "      <td>109.881657</td>\n",
              "      <td>2</td>\n",
              "    </tr>\n",
              "    <tr>\n",
              "      <th>29</th>\n",
              "      <td>23.127540</td>\n",
              "      <td>72.765191</td>\n",
              "      <td>7</td>\n",
              "    </tr>\n",
              "  </tbody>\n",
              "</table>\n",
              "</div>"
            ],
            "text/plain": [
              "        speed    waitTime  roadId\n",
              "0   13.657209   51.132356       4\n",
              "1   24.235851   29.326921       1\n",
              "2   11.071521  107.369012       9\n",
              "3   17.269517   51.880050       0\n",
              "4    8.103329   24.632221       7\n",
              "5   17.759335  119.662499       0\n",
              "6    4.769258   52.885470       1\n",
              "7   13.344992  138.624840       4\n",
              "8   14.059374   83.906340       2\n",
              "9    5.288030   86.387146       7\n",
              "10  17.496345  117.562625       7\n",
              "11   6.380214  120.962631       4\n",
              "12  24.694887   65.827192       6\n",
              "13  18.769056   60.955565       5\n",
              "14  15.650155  149.732113       6\n",
              "15   6.821720   83.667186       7\n",
              "16  17.285417   79.204988      10\n",
              "17  19.485888   32.576052       3\n",
              "18   1.422675  113.693677       1\n",
              "19  15.925469   17.311375       6\n",
              "20  16.352568    5.110231       6\n",
              "21  18.316280   43.463915       0\n",
              "22  17.695633  131.110097       7\n",
              "23  14.295802  142.961611       8\n",
              "24   1.806098   33.820494       4\n",
              "25  11.513379   10.756759       1\n",
              "26  12.052988   40.543600       5\n",
              "27  12.819511   20.304362       3\n",
              "28  18.305889  109.881657       2\n",
              "29  23.127540   72.765191       7"
            ]
          },
          "metadata": {
            "tags": []
          },
          "execution_count": 29
        }
      ]
    },
    {
      "cell_type": "code",
      "metadata": {
        "id": "m307ycy-xkN6",
        "colab_type": "code",
        "colab": {}
      },
      "source": [
        "def generateProbability(vehicle_data):\n",
        " # return vehicle_data.shape\n",
        " prob=[]\n",
        " nv = vehicle_data.shape[0]\n",
        " for i in range(0, nv):\n",
        "   p = r.uniform(0,1)\n",
        "   prob.append(p)\n",
        " return prob\n",
        "\n"
      ],
      "execution_count": 0,
      "outputs": []
    },
    {
      "cell_type": "code",
      "metadata": {
        "id": "6Zq2nSkHPfE5",
        "colab_type": "code",
        "outputId": "06acb230-46ed-444a-b56f-fa4e1087a576",
        "colab": {
          "base_uri": "https://localhost:8080/",
          "height": 359
        }
      },
      "source": [
        "p = generateProbability(vehicle_data)\n",
        "data = {'speed':speed,'waitTime':waitTime, 'roadId' :roadId, 'prob' : p}\n",
        "vehicle_data = pd.DataFrame(data, index = vid)\n",
        "vehicle_data.head(10)"
      ],
      "execution_count": 31,
      "outputs": [
        {
          "output_type": "execute_result",
          "data": {
            "text/html": [
              "<div>\n",
              "<style scoped>\n",
              "    .dataframe tbody tr th:only-of-type {\n",
              "        vertical-align: middle;\n",
              "    }\n",
              "\n",
              "    .dataframe tbody tr th {\n",
              "        vertical-align: top;\n",
              "    }\n",
              "\n",
              "    .dataframe thead th {\n",
              "        text-align: right;\n",
              "    }\n",
              "</style>\n",
              "<table border=\"1\" class=\"dataframe\">\n",
              "  <thead>\n",
              "    <tr style=\"text-align: right;\">\n",
              "      <th></th>\n",
              "      <th>speed</th>\n",
              "      <th>waitTime</th>\n",
              "      <th>roadId</th>\n",
              "      <th>prob</th>\n",
              "    </tr>\n",
              "  </thead>\n",
              "  <tbody>\n",
              "    <tr>\n",
              "      <th>0</th>\n",
              "      <td>13.657209</td>\n",
              "      <td>51.132356</td>\n",
              "      <td>4</td>\n",
              "      <td>0.943510</td>\n",
              "    </tr>\n",
              "    <tr>\n",
              "      <th>1</th>\n",
              "      <td>24.235851</td>\n",
              "      <td>29.326921</td>\n",
              "      <td>1</td>\n",
              "      <td>0.783304</td>\n",
              "    </tr>\n",
              "    <tr>\n",
              "      <th>2</th>\n",
              "      <td>11.071521</td>\n",
              "      <td>107.369012</td>\n",
              "      <td>9</td>\n",
              "      <td>0.393893</td>\n",
              "    </tr>\n",
              "    <tr>\n",
              "      <th>3</th>\n",
              "      <td>17.269517</td>\n",
              "      <td>51.880050</td>\n",
              "      <td>0</td>\n",
              "      <td>0.219004</td>\n",
              "    </tr>\n",
              "    <tr>\n",
              "      <th>4</th>\n",
              "      <td>8.103329</td>\n",
              "      <td>24.632221</td>\n",
              "      <td>7</td>\n",
              "      <td>0.945973</td>\n",
              "    </tr>\n",
              "    <tr>\n",
              "      <th>5</th>\n",
              "      <td>17.759335</td>\n",
              "      <td>119.662499</td>\n",
              "      <td>0</td>\n",
              "      <td>0.585860</td>\n",
              "    </tr>\n",
              "    <tr>\n",
              "      <th>6</th>\n",
              "      <td>4.769258</td>\n",
              "      <td>52.885470</td>\n",
              "      <td>1</td>\n",
              "      <td>0.843248</td>\n",
              "    </tr>\n",
              "    <tr>\n",
              "      <th>7</th>\n",
              "      <td>13.344992</td>\n",
              "      <td>138.624840</td>\n",
              "      <td>4</td>\n",
              "      <td>0.567547</td>\n",
              "    </tr>\n",
              "    <tr>\n",
              "      <th>8</th>\n",
              "      <td>14.059374</td>\n",
              "      <td>83.906340</td>\n",
              "      <td>2</td>\n",
              "      <td>0.057032</td>\n",
              "    </tr>\n",
              "    <tr>\n",
              "      <th>9</th>\n",
              "      <td>5.288030</td>\n",
              "      <td>86.387146</td>\n",
              "      <td>7</td>\n",
              "      <td>0.242998</td>\n",
              "    </tr>\n",
              "  </tbody>\n",
              "</table>\n",
              "</div>"
            ],
            "text/plain": [
              "       speed    waitTime  roadId      prob\n",
              "0  13.657209   51.132356       4  0.943510\n",
              "1  24.235851   29.326921       1  0.783304\n",
              "2  11.071521  107.369012       9  0.393893\n",
              "3  17.269517   51.880050       0  0.219004\n",
              "4   8.103329   24.632221       7  0.945973\n",
              "5  17.759335  119.662499       0  0.585860\n",
              "6   4.769258   52.885470       1  0.843248\n",
              "7  13.344992  138.624840       4  0.567547\n",
              "8  14.059374   83.906340       2  0.057032\n",
              "9   5.288030   86.387146       7  0.242998"
            ]
          },
          "metadata": {
            "tags": []
          },
          "execution_count": 31
        }
      ]
    },
    {
      "cell_type": "code",
      "metadata": {
        "id": "J6RlHcrhcHWp",
        "colab_type": "code",
        "outputId": "256a2780-fe24-4571-db38-3f56b8832ac6",
        "colab": {
          "base_uri": "https://localhost:8080/",
          "height": 119
        }
      },
      "source": [
        "#olvehicle_data[vehicle_data['speed']<20].head(10) #vehicle_data['waitTime']>500]\n",
        "\n",
        "vehicle_data[ vehicle_data['speed']<20 ][vehicle_data['waitTime'] > 100] [vehicle_data['prob'] > 0.5][vehicle_data['roadId'] == 5].index"
      ],
      "execution_count": 38,
      "outputs": [
        {
          "output_type": "stream",
          "text": [
            "/usr/local/lib/python3.6/dist-packages/ipykernel_launcher.py:2: UserWarning: Boolean Series key will be reindexed to match DataFrame index.\n",
            "  \n"
          ],
          "name": "stderr"
        },
        {
          "output_type": "execute_result",
          "data": {
            "text/plain": [
              "Int64Index([  90,  128,  154,  364,  370,  430,  466,  541,  568,  607,  621,\n",
              "             659,  908, 1032, 1213, 1246, 1388, 1470, 1549, 1615, 1698, 1779,\n",
              "            1953],\n",
              "           dtype='int64')"
            ]
          },
          "metadata": {
            "tags": []
          },
          "execution_count": 38
        }
      ]
    },
    {
      "cell_type": "code",
      "metadata": {
        "id": "QNsfAJDhVZM1",
        "colab_type": "code",
        "colab": {}
      },
      "source": [
        ""
      ],
      "execution_count": 0,
      "outputs": []
    }
  ]
}