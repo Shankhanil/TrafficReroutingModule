{
  "nbformat": 4,
  "nbformat_minor": 0,
  "metadata": {
    "colab": {
      "name": "module.ipynb",
      "provenance": [],
      "collapsed_sections": []
    },
    "kernelspec": {
      "name": "python3",
      "display_name": "Python 3"
    }
  },
  "cells": [
    {
      "cell_type": "code",
      "metadata": {
        "id": "UxqtH05Mcidu",
        "colab_type": "code",
        "colab": {
          "base_uri": "https://localhost:8080/",
          "height": 34
        }
      },
      "source": [
        "#generate vid\n",
        "import random as r\n",
        "import numpy as np\n",
        "import pandas as pd\n",
        "type(r.randrange(100))"
      ],
      "outputs": [
        {
          "output_type": "execute_result",
          "data": {
            "text/plain": [
              "int"
            ]
          },
          "metadata": {
            "tags": []
          },
        }
      ]
    },
    {
      "cell_type": "code",
      "metadata": {
        "id": "Nwb91q1yeGDm",
        "colab_type": "code",
        "colab": {}
      },
      "source": [
        "def simulateVehicle(vid):\n",
        "  speed = []\n",
        "  waitTime = []\n",
        "  roadId = []\n",
        "  timestamp = []\n",
        "  prob = []\n",
        "\n",
        "  #vid = list(range(0,2000))\n",
        "  for i in range(len(vid)):\n",
        "    rspeed= r.uniform(0,90)\n",
        "    rwt= r.uniform(0,150)\n",
        "    rid= r.randint(0,10)\n",
        "    p = r.uniform(0,1)\n",
        "def generateVehicles():\n",
        "  rating = []\n",
        "  vid = list(range(0,2000))\n",
        "  for i in range(0,2000):\n",
        "    rate= r.uniform(0,5)\n",
        "    rating.append(rate)\n",
        "  data2 = {'vid': vid, 'rating':rating}\n",
        "  driver_data = pd.DataFrame(data, index = vid)\n",
        "  return driver_data\n",
        "\n"
      ],
      "execution_count": 0,
      "outputs": []
    },
    {
      "cell_type": "code",
      "metadata": {
        "id": "QNsfAJDhVZM1",
        "colab_type": "code",
      },
      "source": [
        "vehicle_info = simulateVehicle(vid = list(range(0,100)))\n",
        "#road = r.randint(0,10)\n",
        "#vehicle_info.shape\n",
        "#vehicle_info[ vehicle_info['speed'] <30][ vehicle_info['waitTime'] > 100 ]\n",
        "v1 = vehicle_info.query(expr='(speed<30 or waitTime>100 ) and probability>0.75')\n",
        "\n",
        "v1[v1.roadId == r.randint(0,10)]\n"
      ],
      "outputs": [
        {
          "output_type": "stream",
          "text": [
            "<class 'dict'>\n"
          ],
          "name": "stdout"
        },
        {
          "output_type": "execute_result",
          "data": {
            "text/html": [
              "<div>\n",
              "<style scoped>\n",
              "    .dataframe tbody tr th:only-of-type {\n",
              "        vertical-align: middle;\n",
              "    }\n",
              "\n",
              "    .dataframe tbody tr th {\n",
              "        vertical-align: top;\n",
              "    }\n",
              "\n",
              "    .dataframe thead th {\n",
              "        text-align: right;\n",
              "    }\n",
              "</style>\n",
              "<table border=\"1\" class=\"dataframe\">\n",
              "  <thead>\n",
              "    <tr style=\"text-align: right;\">\n",
              "      <th></th>\n",
              "      <th>vid</th>\n",
              "      <th>speed</th>\n",
              "      <th>waitTime</th>\n",
              "      <th>roadId</th>\n",
              "      <th>probability</th>\n",
              "    </tr>\n",
              "  </thead>\n",
              "  <tbody>\n",
              "    <tr>\n",
              "    </tr>\n",
              "  </tbody>\n",
              "</table>\n",
              "</div>"
            ],
            "text/plain": [
            ]
          },
          "metadata": {
            "tags": []
          },
        }
      ]
    },
    {
      "cell_type": "code",
      "metadata": {
        "id": "dYRt8nnYkR8c",
        "colab_type": "code",
        "colab": {}
      },
      "source": [
        "def vote(vehicle_info, driver_data):\n",
        "  return res\n",
        "def update_merit(vehicle_info, driver_data, res):\n",
        "  return 0"
      ],
      "execution_count": 0,
      "outputs": []
    },
    {
      "cell_type": "code",
      "metadata": {
        "id": "aHvpC5ssm-Yr",
        "colab_type": "code",
        "colab": {}
      },
      "source": [
        "def simulate(time = 500):\n",
        "  vlist = []\n",
        "  vn = r.randint(0,2000)\n",
        "  for i in range(0, vn):\n",
        "    vlist.append(r.randint(0,2000))\n",
        "  \n",
        "  vehicle_info = simulateVehicle(vlist)\n",
        "  vehicle_info['timestamp'] = time\n",
        "  #print(vehicle_info.head())\n",
        "  v1 = vehicle_info.query(expr='(speed<30 or waitTime>100 ) and probability>0.75')\n",
        "  resv = v1[v1.roadId == r.randint(0,10)]\n",
        "\n",
        "  fp1 = open('output.csv', mode = 'a')\n",
        "  print(resv, file = fp1)\n",
        "  print('\\n\\n', file = fp1)\n",
        "\n"
      ],
      "execution_count": 0,
      "outputs": []
    },
    {
      "cell_type": "code",
      "metadata": {
        "id": "Jm7iEewDwQjT",
        "colab_type": "code",
        }
      ]
    },
    {
      "cell_type": "code",
      "metadata": {
      "outputs": [
        {
          "output_type": "execute_result",
          "data": {
            "text/html": [
              "<div>\n",
              "<style scoped>\n",
              "    .dataframe tbody tr th:only-of-type {\n",
              "        vertical-align: middle;\n",
              "    }\n",
              "\n",
              "    .dataframe tbody tr th {\n",
              "        vertical-align: top;\n",
              "    }\n",
              "\n",
              "    .dataframe thead th {\n",
              "        text-align: right;\n",
              "    }\n",
              "</style>\n",
              "<table border=\"1\" class=\"dataframe\">\n",
              "  <thead>\n",
              "    <tr style=\"text-align: right;\">\n",
              "      <th></th>\n",
              "      <th>vid</th>\n",
              "      <th>speed</th>\n",
              "      <th>waitTime</th>\n",
              "      <th>roadId</th>\n",
              "      <th>probability</th>\n",
              "      <th>timestamp</th>\n",
              "    </tr>\n",
              "  </thead>\n",
              "  <tbody>\n",
              "    <tr>\n",
              "      <th>78</th>\n",
              "      <td>1378</td>\n",
              "      <td>42.236299</td>\n",
              "      <td>133.667833</td>\n",
              "      <td>1</td>\n",
              "      <td>0.955034</td>\n",
              "      <td>0</td>\n",
              "    </tr>\n",
              "    <tr>\n",
              "      <th>85</th>\n",
              "      <td>1507</td>\n",
              "      <td>12.587979</td>\n",
              "      <td>87.718080</td>\n",
              "      <td>1</td>\n",
              "      <td>0.992758</td>\n",
              "      <td>0</td>\n",
              "    </tr>\n",
              "    <tr>\n",
              "      <th>105</th>\n",
              "      <td>608</td>\n",
              "      <td>89.618098</td>\n",
              "      <td>145.942130</td>\n",
              "      <td>1</td>\n",
              "      <td>0.929894</td>\n",
              "      <td>0</td>\n",
              "    </tr>\n",
              "    <tr>\n",
              "      <th>340</th>\n",
              "      <td>1788</td>\n",
              "      <td>79.875956</td>\n",
              "      <td>114.794874</td>\n",
              "      <td>1</td>\n",
              "      <td>0.841281</td>\n",
              "      <td>0</td>\n",
              "    </tr>\n",
              "    <tr>\n",
              "      <th>32</th>\n",
              "      <td>1283</td>\n",
              "      <td>69.129231</td>\n",
              "      <td>109.917199</td>\n",
              "      <td>9</td>\n",
              "      <td>0.800668</td>\n",
              "      <td>1</td>\n",
              "    </tr>\n",
              "  </tbody>\n",
              "</table>\n",
              "</div>"
            ],
            "text/plain": [

            ]
          },
          "metadata": {
            "tags": []
          },
        }
      ]
    }
  ]
}